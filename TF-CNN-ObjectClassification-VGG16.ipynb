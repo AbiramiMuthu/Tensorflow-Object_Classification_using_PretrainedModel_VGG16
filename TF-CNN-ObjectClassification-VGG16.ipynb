{
 "cells": [
  {
   "cell_type": "markdown",
   "id": "4d950919",
   "metadata": {},
   "source": [
    "## Import Libraries\n"
   ]
  },
  {
   "cell_type": "code",
   "execution_count": 1,
   "id": "cf162056",
   "metadata": {},
   "outputs": [],
   "source": [
    "from tensorflow.keras.applications.vgg16 import VGG16,preprocess_input,decode_predictions"
   ]
  },
  {
   "cell_type": "code",
   "execution_count": 2,
   "id": "19a1c7db",
   "metadata": {},
   "outputs": [],
   "source": [
    "from tensorflow.keras.preprocessing.image import load_img,img_to_array"
   ]
  },
  {
   "cell_type": "markdown",
   "id": "b7829c40",
   "metadata": {},
   "source": [
    "## Load the Model"
   ]
  },
  {
   "cell_type": "code",
   "execution_count": 3,
   "id": "e068823a",
   "metadata": {},
   "outputs": [
    {
     "name": "stdout",
     "output_type": "stream",
     "text": [
      "Downloading data from https://storage.googleapis.com/tensorflow/keras-applications/vgg16/vgg16_weights_tf_dim_ordering_tf_kernels.h5\n",
      "553467904/553467096 [==============================] - 276s 0us/step\n",
      "Model: \"vgg16\"\n",
      "_________________________________________________________________\n",
      "Layer (type)                 Output Shape              Param #   \n",
      "=================================================================\n",
      "input_1 (InputLayer)         [(None, 224, 224, 3)]     0         \n",
      "_________________________________________________________________\n",
      "block1_conv1 (Conv2D)        (None, 224, 224, 64)      1792      \n",
      "_________________________________________________________________\n",
      "block1_conv2 (Conv2D)        (None, 224, 224, 64)      36928     \n",
      "_________________________________________________________________\n",
      "block1_pool (MaxPooling2D)   (None, 112, 112, 64)      0         \n",
      "_________________________________________________________________\n",
      "block2_conv1 (Conv2D)        (None, 112, 112, 128)     73856     \n",
      "_________________________________________________________________\n",
      "block2_conv2 (Conv2D)        (None, 112, 112, 128)     147584    \n",
      "_________________________________________________________________\n",
      "block2_pool (MaxPooling2D)   (None, 56, 56, 128)       0         \n",
      "_________________________________________________________________\n",
      "block3_conv1 (Conv2D)        (None, 56, 56, 256)       295168    \n",
      "_________________________________________________________________\n",
      "block3_conv2 (Conv2D)        (None, 56, 56, 256)       590080    \n",
      "_________________________________________________________________\n",
      "block3_conv3 (Conv2D)        (None, 56, 56, 256)       590080    \n",
      "_________________________________________________________________\n",
      "block3_pool (MaxPooling2D)   (None, 28, 28, 256)       0         \n",
      "_________________________________________________________________\n",
      "block4_conv1 (Conv2D)        (None, 28, 28, 512)       1180160   \n",
      "_________________________________________________________________\n",
      "block4_conv2 (Conv2D)        (None, 28, 28, 512)       2359808   \n",
      "_________________________________________________________________\n",
      "block4_conv3 (Conv2D)        (None, 28, 28, 512)       2359808   \n",
      "_________________________________________________________________\n",
      "block4_pool (MaxPooling2D)   (None, 14, 14, 512)       0         \n",
      "_________________________________________________________________\n",
      "block5_conv1 (Conv2D)        (None, 14, 14, 512)       2359808   \n",
      "_________________________________________________________________\n",
      "block5_conv2 (Conv2D)        (None, 14, 14, 512)       2359808   \n",
      "_________________________________________________________________\n",
      "block5_conv3 (Conv2D)        (None, 14, 14, 512)       2359808   \n",
      "_________________________________________________________________\n",
      "block5_pool (MaxPooling2D)   (None, 7, 7, 512)         0         \n",
      "_________________________________________________________________\n",
      "flatten (Flatten)            (None, 25088)             0         \n",
      "_________________________________________________________________\n",
      "fc1 (Dense)                  (None, 4096)              102764544 \n",
      "_________________________________________________________________\n",
      "fc2 (Dense)                  (None, 4096)              16781312  \n",
      "_________________________________________________________________\n",
      "predictions (Dense)          (None, 1000)              4097000   \n",
      "=================================================================\n",
      "Total params: 138,357,544\n",
      "Trainable params: 138,357,544\n",
      "Non-trainable params: 0\n",
      "_________________________________________________________________\n"
     ]
    }
   ],
   "source": [
    "model=VGG16()\n",
    "model.summary()"
   ]
  },
  {
   "cell_type": "markdown",
   "id": "e914740d",
   "metadata": {},
   "source": [
    "## Load the images to be classified using the pretrained model"
   ]
  },
  {
   "cell_type": "code",
   "execution_count": 5,
   "id": "b4b10e42",
   "metadata": {},
   "outputs": [],
   "source": [
    "import os"
   ]
  },
  {
   "cell_type": "code",
   "execution_count": 13,
   "id": "35005f5b",
   "metadata": {},
   "outputs": [
    {
     "name": "stdout",
     "output_type": "stream",
     "text": [
      "monitor.jpg\n",
      "[[('n03180011', 'desktop_computer', 0.44748092), ('n03782006', 'monitor', 0.2834243)]]\n",
      "\n",
      "mouse.jpg\n",
      "[[('n03793489', 'mouse', 0.9991085), ('n04254680', 'soccer_ball', 0.0001551007)]]\n",
      "\n",
      "mug.jpg\n",
      "[[('n07930864', 'cup', 0.4159466), ('n03063599', 'coffee_mug', 0.40605208)]]\n",
      "\n",
      "pen.jpg\n",
      "[[('n02783161', 'ballpoint', 0.76304775), ('n03658185', 'letter_opener', 0.062782004)]]\n",
      "\n",
      "wallet.jpg\n",
      "[[('n04548362', 'wallet', 0.52800345), ('n02840245', 'binder', 0.16770227)]]\n",
      "\n",
      "waterbottle1.jpg\n",
      "[[('n04557648', 'water_bottle', 0.9377679), ('n04560804', 'water_jug', 0.043309256)]]\n",
      "\n",
      "waterbottle2.jpg\n",
      "[[('n04557648', 'water_bottle', 0.9662113), ('n04560804', 'water_jug', 0.014542265)]]\n",
      "\n",
      "waterbottle3.jpg\n",
      "[[('n04557648', 'water_bottle', 0.8723487), ('n03825788', 'nipple', 0.046917517)]]\n",
      "\n"
     ]
    }
   ],
   "source": [
    "for file in os.listdir('sample'):\n",
    "    print(file)\n",
    "    fullpath='sample/'+file\n",
    "    #load the image,Making the image size compatible with VGG16 input\n",
    "    image=load_img(fullpath,target_size=(224,224))\n",
    "    # Converts a PIL Image to 3D Numy Array\n",
    "    image=img_to_array(image)\n",
    "    # Adding the fouth dimension, for number of images\n",
    "    image=image.reshape((1,image.shape[0],image.shape[1],image.shape[2]))\n",
    "    #mean centering with respect to Image\n",
    "    image=preprocess_input(image)\n",
    "    #return the prob score for 1000 classes\n",
    "    y_pred=model.predict(image)\n",
    "    #we need the label with the one having top score\n",
    "    label=decode_predictions(y_pred,2)\n",
    "    print(label)\n",
    "    print()"
   ]
  },
  {
   "cell_type": "code",
   "execution_count": null,
   "id": "77248c62",
   "metadata": {},
   "outputs": [],
   "source": []
  }
 ],
 "metadata": {
  "kernelspec": {
   "display_name": "Python 3",
   "language": "python",
   "name": "python3"
  },
  "language_info": {
   "codemirror_mode": {
    "name": "ipython",
    "version": 3
   },
   "file_extension": ".py",
   "mimetype": "text/x-python",
   "name": "python",
   "nbconvert_exporter": "python",
   "pygments_lexer": "ipython3",
   "version": "3.8.8"
  }
 },
 "nbformat": 4,
 "nbformat_minor": 5
}
